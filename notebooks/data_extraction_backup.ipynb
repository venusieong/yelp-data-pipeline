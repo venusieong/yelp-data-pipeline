{
 "cells": [
  {
   "cell_type": "code",
   "execution_count": 5,
   "id": "f1c8f36f-7b14-4ae4-8a48-b0a2243f412b",
   "metadata": {},
   "outputs": [],
   "source": [
    "import requests\n",
    "import zipfile\n",
    "import os\n",
    "import tarfile"
   ]
  },
  {
   "cell_type": "code",
   "execution_count": 6,
   "id": "fbd3ba81-7e1f-44ff-8d33-9995d52ac576",
   "metadata": {},
   "outputs": [],
   "source": [
    "url = 'https://business.yelp.com/external-assets/files/Yelp-JSON.zip'"
   ]
  },
  {
   "cell_type": "code",
   "execution_count": 7,
   "id": "dcc6b29e-2edc-41f6-93dc-34b9117d6b12",
   "metadata": {},
   "outputs": [],
   "source": [
    "headers = {\n",
    "    'User-Agent': 'Mozilla/5.0 (Windows NT 10.0; Win64; x64) AppleWebKit/537.36 (KHTML, like Gecko) Chrome/58.0.3029.110 Safari/537.36'\n",
    "}"
   ]
  },
  {
   "cell_type": "code",
   "execution_count": 8,
   "id": "d43d4688-edf0-49d6-be4e-9e8180346b29",
   "metadata": {},
   "outputs": [],
   "source": [
    "response = requests.get(url, headers=headers)"
   ]
  },
  {
   "cell_type": "code",
   "execution_count": 9,
   "id": "37bd25fc-fc57-4afb-9c46-1aa495b72568",
   "metadata": {},
   "outputs": [
    {
     "name": "stdout",
     "output_type": "stream",
     "text": [
      "ZIP file downloaded successfully!\n",
      "ZIP file saved successfully!\n",
      "ZIP file extracted successfully!\n"
     ]
    }
   ],
   "source": [
    "if response.status_code == 200:\n",
    "    print(\"ZIP file downloaded successfully!\")\n",
    "\n",
    "    # Save the content to a file\n",
    "    with open('Yelp-JSON.zip', 'wb') as file:\n",
    "        file.write(response.content)\n",
    "    print(\"ZIP file saved successfully!\")\n",
    "\n",
    "    # Extract the ZIP file\n",
    "    with zipfile.ZipFile('Yelp-JSON.zip', 'r') as zip_ref:\n",
    "        zip_ref.extractall('yelp_data')\n",
    "    print(\"ZIP file extracted successfully!\")\n",
    "else:\n",
    "    print(f\"Failed to download ZIP file. Status code: {response.status_code}\")"
   ]
  },
  {
   "cell_type": "code",
   "execution_count": 10,
   "id": "5f4ecfcf-7c9c-4d2e-b055-4461ea008696",
   "metadata": {},
   "outputs": [],
   "source": [
    "zip_file_path = 'Yelp-JSON.zip'"
   ]
  },
  {
   "cell_type": "code",
   "execution_count": 11,
   "id": "2ef376e0-9362-40b4-8580-48c47140a9bf",
   "metadata": {},
   "outputs": [
    {
     "name": "stdout",
     "output_type": "stream",
     "text": [
      "ZIP file extracted.\n"
     ]
    }
   ],
   "source": [
    "with zipfile.ZipFile(zip_file_path, 'r') as zip_ref:\n",
    "    # Extract all files to a temporary directory\n",
    "    zip_ref.extractall('yelp_data')\n",
    "    print(\"ZIP file extracted.\")"
   ]
  },
  {
   "cell_type": "code",
   "execution_count": 12,
   "id": "07a0c173-d661-459a-b69a-e797d2e63f56",
   "metadata": {},
   "outputs": [
    {
     "name": "stdout",
     "output_type": "stream",
     "text": [
      "Extracted files: ['__MACOSX', 'Yelp JSON']\n"
     ]
    }
   ],
   "source": [
    "extracted_files = os.listdir('yelp_data')\n",
    "print(\"Extracted files:\", extracted_files)"
   ]
  },
  {
   "cell_type": "code",
   "execution_count": 13,
   "id": "76f61a03-1ad8-4e21-99dc-5864695a6a73",
   "metadata": {},
   "outputs": [
    {
     "name": "stdout",
     "output_type": "stream",
     "text": [
      "Files inside 'Yelp JSON' folder: ['yelp_dataset.tar', 'Yelp Dataset Documentation & ToS copy.pdf']\n"
     ]
    }
   ],
   "source": [
    "# List the files in the 'Yelp JSON' directory\n",
    "yelp_json_folder = os.path.join('yelp_data', 'Yelp JSON')\n",
    "yelp_json_files = os.listdir(yelp_json_folder)\n",
    "\n",
    "print(\"Files inside 'Yelp JSON' folder:\", yelp_json_files)"
   ]
  },
  {
   "cell_type": "code",
   "execution_count": 14,
   "id": "a791913c-2835-4928-a6b1-e22fc2a881ca",
   "metadata": {},
   "outputs": [],
   "source": [
    "tar_file_path = os.path.join(yelp_json_folder, 'yelp_dataset.tar')"
   ]
  },
  {
   "cell_type": "code",
   "execution_count": 15,
   "id": "8533766d-eda0-434d-90ff-9846b02e3b6e",
   "metadata": {},
   "outputs": [
    {
     "name": "stdout",
     "output_type": "stream",
     "text": [
      "TAR file extracted successfully.\n"
     ]
    }
   ],
   "source": [
    "# Extract the tar file\n",
    "with tarfile.open(tar_file_path, 'r') as tar:\n",
    "    tar.extractall(path='yelp_data')  # Extracting into the 'yelp_data' folder\n",
    "\n",
    "print(\"TAR file extracted successfully.\")"
   ]
  },
  {
   "cell_type": "code",
   "execution_count": 16,
   "id": "1cacee80-6d8d-47e0-a2e0-124f7aa52078",
   "metadata": {},
   "outputs": [
    {
     "name": "stdout",
     "output_type": "stream",
     "text": [
      "Extracted files: ['yelp_academic_dataset_tip.json', '__MACOSX', 'yelp_academic_dataset_review.json', 'Yelp JSON', 'yelp_academic_dataset_user.json', 'yelp_academic_dataset_checkin.json', 'yelp_academic_dataset_business.json', 'Dataset_User_Agreement.pdf']\n"
     ]
    }
   ],
   "source": [
    "extracted_files = os.listdir('yelp_data')\n",
    "print(\"Extracted files:\", extracted_files)"
   ]
  },
  {
   "cell_type": "code",
   "execution_count": null,
   "id": "1f2171e4-4461-420d-bf73-3b1e99df3896",
   "metadata": {},
   "outputs": [],
   "source": []
  }
 ],
 "metadata": {
  "kernelspec": {
   "display_name": "Python 3 (ipykernel)",
   "language": "python",
   "name": "python3"
  },
  "language_info": {
   "codemirror_mode": {
    "name": "ipython",
    "version": 3
   },
   "file_extension": ".py",
   "mimetype": "text/x-python",
   "name": "python",
   "nbconvert_exporter": "python",
   "pygments_lexer": "ipython3",
   "version": "3.12.2"
  }
 },
 "nbformat": 4,
 "nbformat_minor": 5
}
