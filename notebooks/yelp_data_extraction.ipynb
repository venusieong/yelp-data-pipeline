{
 "cells": [
  {
   "cell_type": "code",
   "execution_count": 10,
   "id": "40b3c322-9d1b-4cc9-9457-3bbdc28eff47",
   "metadata": {},
   "outputs": [],
   "source": [
    "import requests\n",
    "import zipfile\n",
    "import os\n",
    "import tarfile\n"
   ]
  },
  {
   "cell_type": "code",
   "execution_count": 6,
   "id": "f1cdb3b8-322d-4e2e-9402-c4056d671307",
   "metadata": {},
   "outputs": [],
   "source": [
    "url = 'https://business.yelp.com/external-assets/files/Yelp-JSON.zip'\n"
   ]
  },
  {
   "cell_type": "code",
   "execution_count": 7,
   "id": "8ba9bb2f-9a5d-403d-93c0-175a66c95473",
   "metadata": {},
   "outputs": [],
   "source": [
    "headers = {\n",
    "    'User-Agent': 'Mozilla/5.0 (Windows NT 10.0; Win64; x64) AppleWebKit/537.36 (KHTML, like Gecko) Chrome/58.0.3029.110 Safari/537.36'\n",
    "}"
   ]
  },
  {
   "cell_type": "code",
   "execution_count": 8,
   "id": "d12fa537-44b8-4271-9b35-76690a556f3c",
   "metadata": {},
   "outputs": [],
   "source": [
    "response = requests.get(url, headers=headers)"
   ]
  },
  {
   "cell_type": "code",
   "execution_count": 9,
   "id": "5bcb9258-968b-410b-930f-b2a14b451a67",
   "metadata": {},
   "outputs": [
    {
     "name": "stdout",
     "output_type": "stream",
     "text": [
      "ZIP file downloaded successfully!\n",
      "ZIP file saved successfully!\n",
      "ZIP file extracted successfully!\n"
     ]
    }
   ],
   "source": [
    "if response.status_code == 200:\n",
    "    print(\"ZIP file downloaded successfully!\")\n",
    "\n",
    "    # Save the content to a file\n",
    "    with open('Yelp-JSON.zip', 'wb') as file:\n",
    "        file.write(response.content)\n",
    "    print(\"ZIP file saved successfully!\")\n",
    "\n",
    "    # Extract the ZIP file\n",
    "    with zipfile.ZipFile('Yelp-JSON.zip', 'r') as zip_ref:\n",
    "        zip_ref.extractall('yelp_data')\n",
    "    print(\"ZIP file extracted successfully!\")\n",
    "else:\n",
    "    print(f\"Failed to download ZIP file. Status code: {response.status_code}\")"
   ]
  },
  {
   "cell_type": "code",
   "execution_count": 11,
   "id": "ab99853c-6531-42b7-9c06-34d4cee4e794",
   "metadata": {},
   "outputs": [],
   "source": [
    "zip_file_path = 'Yelp-JSON.zip'"
   ]
  },
  {
   "cell_type": "code",
   "execution_count": 12,
   "id": "b6dc5acd-42ed-44ae-84ad-59eb8e05e74e",
   "metadata": {},
   "outputs": [
    {
     "name": "stdout",
     "output_type": "stream",
     "text": [
      "ZIP file extracted.\n"
     ]
    }
   ],
   "source": [
    "with zipfile.ZipFile(zip_file_path, 'r') as zip_ref:\n",
    "    # Extract all files to a temporary directory\n",
    "    zip_ref.extractall('yelp_data')\n",
    "    print(\"ZIP file extracted.\")"
   ]
  },
  {
   "cell_type": "code",
   "execution_count": 14,
   "id": "1ee0e5dd-864c-4c8a-a96c-a2916e67da11",
   "metadata": {},
   "outputs": [
    {
     "name": "stdout",
     "output_type": "stream",
     "text": [
      "Extracted files: ['__MACOSX', 'Yelp JSON']\n"
     ]
    }
   ],
   "source": [
    "extracted_files = os.listdir('yelp_data')\n",
    "print(\"Extracted files:\", extracted_files)"
   ]
  },
  {
   "cell_type": "code",
   "execution_count": 16,
   "id": "24aa6cbc-2ee4-40af-b156-39d1cc79aaed",
   "metadata": {},
   "outputs": [
    {
     "name": "stdout",
     "output_type": "stream",
     "text": [
      "Files inside 'Yelp JSON' folder: ['yelp_dataset.tar', 'Yelp Dataset Documentation & ToS copy.pdf']\n"
     ]
    }
   ],
   "source": [
    "yelp_json_folder = os.path.join('yelp_data', 'Yelp JSON')\n",
    "yelp_json_files = os.listdir(yelp_json_folder)\n",
    "print(\"Files inside 'Yelp JSON' folder:\", yelp_json_files)"
   ]
  },
  {
   "cell_type": "code",
   "execution_count": 17,
   "id": "85fead08-48c6-4f68-ae36-d0b242cfc6f4",
   "metadata": {},
   "outputs": [],
   "source": [
    "tar_file_path = os.path.join(yelp_json_folder, 'yelp_dataset.tar')"
   ]
  },
  {
   "cell_type": "code",
   "execution_count": null,
   "id": "b78da315-139c-46b2-8a5f-b4d29644ccab",
   "metadata": {},
   "outputs": [],
   "source": [
    "with tarfile.open(tar_file_path, 'r') as tar:\n",
    "    tar.extractall(path='yelp_data')  # Extracting into the 'yelp_data' folder\n",
    "\n",
    "print(\"TAR file extracted successfully.\")"
   ]
  },
  {
   "cell_type": "code",
   "execution_count": null,
   "id": "000b3ca7-7cae-4b41-94d5-7bd5ee4e231f",
   "metadata": {},
   "outputs": [],
   "source": []
  }
 ],
 "metadata": {
  "kernelspec": {
   "display_name": "Python 3 (ipykernel)",
   "language": "python",
   "name": "python3"
  },
  "language_info": {
   "codemirror_mode": {
    "name": "ipython",
    "version": 3
   },
   "file_extension": ".py",
   "mimetype": "text/x-python",
   "name": "python",
   "nbconvert_exporter": "python",
   "pygments_lexer": "ipython3",
   "version": "3.12.2"
  }
 },
 "nbformat": 4,
 "nbformat_minor": 5
}
